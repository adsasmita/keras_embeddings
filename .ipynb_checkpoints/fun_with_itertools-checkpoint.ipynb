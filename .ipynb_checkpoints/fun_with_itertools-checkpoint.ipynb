{
 "cells": [
  {
   "cell_type": "code",
   "execution_count": 1,
   "metadata": {},
   "outputs": [
    {
     "name": "stdout",
     "output_type": "stream",
     "text": []
    },
    {
     "name": "stdout",
     "output_type": "stream",
     "text": []
    },
    {
     "name": "stdout",
     "output_type": "stream",
     "text": []
    },
    {
     "name": "stdout",
     "output_type": "stream",
     "text": []
    },
    {
     "name": "stdout",
     "output_type": "stream",
     "text": []
    },
    {
     "name": "stdout",
     "output_type": "stream",
     "text": []
    },
    {
     "name": "stdout",
     "output_type": "stream",
     "text": []
    },
    {
     "name": "stdout",
     "output_type": "stream",
     "text": []
    },
    {
     "name": "stdout",
     "output_type": "stream",
     "text": []
    },
    {
     "name": "stdout",
     "output_type": "stream",
     "text": []
    },
    {
     "name": "stdout",
     "output_type": "stream",
     "text": []
    },
    {
     "name": "stdout",
     "output_type": "stream",
     "text": []
    },
    {
     "name": "stdout",
     "output_type": "stream",
     "text": []
    },
    {
     "name": "stdout",
     "output_type": "stream",
     "text": []
    },
    {
     "name": "stdout",
     "output_type": "stream",
     "text": []
    },
    {
     "name": "stdout",
     "output_type": "stream",
     "text": []
    },
    {
     "name": "stdout",
     "output_type": "stream",
     "text": []
    },
    {
     "name": "stdout",
     "output_type": "stream",
     "text": []
    },
    {
     "name": "stdout",
     "output_type": "stream",
     "text": []
    },
    {
     "name": "stdout",
     "output_type": "stream",
     "text": []
    },
    {
     "name": "stdout",
     "output_type": "stream",
     "text": []
    },
    {
     "name": "stdout",
     "output_type": "stream",
     "text": []
    },
    {
     "name": "stdout",
     "output_type": "stream",
     "text": []
    },
    {
     "name": "stdout",
     "output_type": "stream",
     "text": [
      "2419200\n",
      "Max needed points = 4747\n",
      "((('Secret', 30),),\n",
      " (('Newbee', 750), ('Mineski', 450), ('PSG.LGD', 225), ('VG', 75)),\n",
      " (('EG', 750), ('VG', 450), ('Newbee', 225), ('Mineski', 75)),\n",
      " (('VGJ.T', 1125), ('EG', 675), ('VG', 337.5), ('Mineski', 112.5)))\n",
      "[('EG', 5610),\n",
      " ('VGJ.T', 5310),\n",
      " ('Newbee', 5145),\n",
      " ('Mineski', 5062.5),\n",
      " ('Secret', 4800),\n",
      " ('VG', 4747.5),\n",
      " ('PSG.LGD', 4746)]\n"
     ]
    }
   ],
   "source": [
    "from itertools import permutations, product\n",
    "from pprint import pprint\n",
    "from math import ceil\n",
    "\n",
    "team_points = {\n",
    "    'Secret' :4710,\n",
    "    'PSG.LGD':4071,\n",
    "    'Mineski':3150,\n",
    "    'Newbee' :2220,\n",
    "    'VG'     :2160,\n",
    "    'VGJ.T'  :1935,\n",
    "    'EG'     :1335,\n",
    "}\n",
    "tournaments = (\n",
    "    (('Secret',),\n",
    "     (30,)),\n",
    "    (('Mineski', 'Newbee', 'Secret', 'VG', 'PSG.LGD'),\n",
    "     (750, 450, 225, 75)),\n",
    "    (('Newbee', 'EG', 'VG', 'Mineski'),\n",
    "     (750, 450, 225, 75)),\n",
    "    (('Secret', 'Newbee', 'VG', 'VGJ.T', 'EG', 'Mineski', 'PSG.LGD'),\n",
    "     (1125, 675, 337.5, 112.5)),\n",
    ")\n",
    "\n",
    "tour_ranks = []\n",
    "for teams, points in tournaments:\n",
    "    tour_ranks.append([])\n",
    "    for rank in permutations(teams, len(points)):\n",
    "        tour_ranks[-1].append(tuple(zip(rank, points)))\n",
    "\n",
    "max_9th_points = 0\n",
    "closest_tour_res = None\n",
    "closest_team_points = None\n",
    "count = 0\n",
    "for tour_res in product(*tour_ranks):\n",
    "    count += 1\n",
    "    if count % 100000 == 0:\n",
    "        print(count, end='\\r')\n",
    "    # Accumuate points (3x)\n",
    "    temp = team_points.copy()\n",
    "    for tour in tour_res:\n",
    "        for t, p in tour:\n",
    "            temp[t] += 3 * p\n",
    "    # Find and record min points\n",
    "    min_pts = min(temp.items(), key=lambda x:x[1])[1]\n",
    "    if max_9th_points < min_pts:\n",
    "        max_9th_points = min_pts\n",
    "        closest_tour_res = tour_res\n",
    "        closest_team_points = temp\n",
    "\n",
    "print(count)\n",
    "print('Max needed points = {}'.format(ceil(max_9th_points + 0.5)))\n",
    "pprint(closest_tour_res)\n",
    "pprint(sorted(closest_team_points.items(), key=lambda x:-x[1]))"
   ]
  },
  {
   "cell_type": "code",
   "execution_count": null,
   "metadata": {},
   "outputs": [],
   "source": []
  },
  {
   "cell_type": "code",
   "execution_count": null,
   "metadata": {},
   "outputs": [],
   "source": []
  }
 ],
 "metadata": {
  "kernelspec": {
   "display_name": "Python 3",
   "language": "python",
   "name": "python3"
  },
  "language_info": {
   "codemirror_mode": {
    "name": "ipython",
    "version": 3
   },
   "file_extension": ".py",
   "mimetype": "text/x-python",
   "name": "python",
   "nbconvert_exporter": "python",
   "pygments_lexer": "ipython3",
   "version": "3.6.5"
  }
 },
 "nbformat": 4,
 "nbformat_minor": 2
}
