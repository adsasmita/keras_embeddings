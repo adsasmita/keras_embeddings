{
 "cells": [
  {
   "cell_type": "code",
   "execution_count": 1,
   "metadata": {},
   "outputs": [
    {
     "name": "stderr",
     "output_type": "stream",
     "text": [
      "/home/andri/Envs/konbini_detector/lib/python3.6/site-packages/h5py/__init__.py:36: FutureWarning: Conversion of the second argument of issubdtype from `float` to `np.floating` is deprecated. In future, it will be treated as `np.float64 == np.dtype(float).type`.\n",
      "  from ._conv import register_converters as _register_converters\n",
      "Using TensorFlow backend.\n"
     ]
    },
    {
     "data": {
      "text/plain": [
       "'2.1.6'"
      ]
     },
     "execution_count": 1,
     "metadata": {},
     "output_type": "execute_result"
    },
    {
     "data": {
      "text/plain": [
       "'1.8.0'"
      ]
     },
     "execution_count": 1,
     "metadata": {},
     "output_type": "execute_result"
    }
   ],
   "source": [
    "import numpy as np\n",
    "import pandas as pd\n",
    "import matplotlib.pyplot as plt\n",
    "%matplotlib inline\n",
    "%reload_ext autoreload\n",
    "%autoreload 2\n",
    "\n",
    "import keras\n",
    "import tensorflow as tf\n",
    "from keras.layers import Embedding, Merge, Dense, concatenate\n",
    "from keras.models import Input, Model\n",
    "from keras.callbacks import TensorBoard\n",
    "from keras.utils import plot_model\n",
    "from IPython.display import SVG\n",
    "\n",
    "keras.__version__\n",
    "tf.__version__"
   ]
  },
  {
   "cell_type": "code",
   "execution_count": 2,
   "metadata": {},
   "outputs": [
    {
     "name": "stdout",
     "output_type": "stream",
     "text": [
      "unique values for hour: [0, 1, 2, 3, 4, 5, 6, 7, 8, 9, 10, 11, 12, 13, 14, 15, 16, 17, 18, 19, 20, 21, 22, 23]\n",
      "unique values for day: [0, 1, 2, 3, 4, 5, 6, 7, 8, 9, 10, 11, 12, 13, 14, 15, 16, 17, 18, 19, 20, 21, 22, 23, 24, 25, 26, 27, 28, 29, 30]\n",
      "unique values for weekday: [0, 1, 2, 3, 4, 5, 6]\n",
      "unique values for month: [0, 1, 2, 3, 4, 5, 6, 7, 8, 9, 10, 11]\n"
     ]
    },
    {
     "data": {
      "text/html": [
       "<div>\n",
       "<style scoped>\n",
       "    .dataframe tbody tr th:only-of-type {\n",
       "        vertical-align: middle;\n",
       "    }\n",
       "\n",
       "    .dataframe tbody tr th {\n",
       "        vertical-align: top;\n",
       "    }\n",
       "\n",
       "    .dataframe thead th {\n",
       "        text-align: right;\n",
       "    }\n",
       "</style>\n",
       "<table border=\"1\" class=\"dataframe\">\n",
       "  <thead>\n",
       "    <tr style=\"text-align: right;\">\n",
       "      <th></th>\n",
       "      <th>datetime</th>\n",
       "      <th>date</th>\n",
       "      <th>hour</th>\n",
       "      <th>day</th>\n",
       "      <th>weekday</th>\n",
       "      <th>month</th>\n",
       "    </tr>\n",
       "  </thead>\n",
       "  <tbody>\n",
       "    <tr>\n",
       "      <th>160944</th>\n",
       "      <td>2018-05-12</td>\n",
       "      <td>2018-05-12</td>\n",
       "      <td>0</td>\n",
       "      <td>11</td>\n",
       "      <td>5</td>\n",
       "      <td>4</td>\n",
       "    </tr>\n",
       "  </tbody>\n",
       "</table>\n",
       "</div>"
      ],
      "text/plain": [
       "         datetime        date  hour  day  weekday  month\n",
       "160944 2018-05-12  2018-05-12     0   11        5      4"
      ]
     },
     "execution_count": 2,
     "metadata": {},
     "output_type": "execute_result"
    },
    {
     "data": {
      "text/html": [
       "<div>\n",
       "<style scoped>\n",
       "    .dataframe tbody tr th:only-of-type {\n",
       "        vertical-align: middle;\n",
       "    }\n",
       "\n",
       "    .dataframe tbody tr th {\n",
       "        vertical-align: top;\n",
       "    }\n",
       "\n",
       "    .dataframe thead th {\n",
       "        text-align: right;\n",
       "    }\n",
       "</style>\n",
       "<table border=\"1\" class=\"dataframe\">\n",
       "  <thead>\n",
       "    <tr style=\"text-align: right;\">\n",
       "      <th></th>\n",
       "      <th>datetime</th>\n",
       "      <th>date</th>\n",
       "      <th>hour</th>\n",
       "      <th>day</th>\n",
       "      <th>weekday</th>\n",
       "      <th>month</th>\n",
       "    </tr>\n",
       "  </thead>\n",
       "  <tbody>\n",
       "    <tr>\n",
       "      <th>160968</th>\n",
       "      <td>2018-05-13</td>\n",
       "      <td>2018-05-13</td>\n",
       "      <td>0</td>\n",
       "      <td>12</td>\n",
       "      <td>6</td>\n",
       "      <td>4</td>\n",
       "    </tr>\n",
       "  </tbody>\n",
       "</table>\n",
       "</div>"
      ],
      "text/plain": [
       "         datetime        date  hour  day  weekday  month\n",
       "160968 2018-05-13  2018-05-13     0   12        6      4"
      ]
     },
     "execution_count": 2,
     "metadata": {},
     "output_type": "execute_result"
    },
    {
     "data": {
      "text/html": [
       "<div>\n",
       "<style scoped>\n",
       "    .dataframe tbody tr th:only-of-type {\n",
       "        vertical-align: middle;\n",
       "    }\n",
       "\n",
       "    .dataframe tbody tr th {\n",
       "        vertical-align: top;\n",
       "    }\n",
       "\n",
       "    .dataframe thead th {\n",
       "        text-align: right;\n",
       "    }\n",
       "</style>\n",
       "<table border=\"1\" class=\"dataframe\">\n",
       "  <thead>\n",
       "    <tr style=\"text-align: right;\">\n",
       "      <th></th>\n",
       "      <th>datetime</th>\n",
       "      <th>date</th>\n",
       "      <th>hour</th>\n",
       "      <th>day</th>\n",
       "      <th>weekday</th>\n",
       "      <th>month</th>\n",
       "    </tr>\n",
       "  </thead>\n",
       "  <tbody>\n",
       "    <tr>\n",
       "      <th>160992</th>\n",
       "      <td>2018-05-14</td>\n",
       "      <td>2018-05-14</td>\n",
       "      <td>0</td>\n",
       "      <td>13</td>\n",
       "      <td>0</td>\n",
       "      <td>4</td>\n",
       "    </tr>\n",
       "  </tbody>\n",
       "</table>\n",
       "</div>"
      ],
      "text/plain": [
       "         datetime        date  hour  day  weekday  month\n",
       "160992 2018-05-14  2018-05-14     0   13        0      4"
      ]
     },
     "execution_count": 2,
     "metadata": {},
     "output_type": "execute_result"
    },
    {
     "data": {
      "text/plain": [
       "(184104, 6)"
      ]
     },
     "execution_count": 2,
     "metadata": {},
     "output_type": "execute_result"
    },
    {
     "data": {
      "text/plain": [
       "{'hour': 24, 'day': 31, 'weekday': 7, 'month': 12}"
      ]
     },
     "execution_count": 2,
     "metadata": {},
     "output_type": "execute_result"
    }
   ],
   "source": [
    "# generate dummy embedding data\n",
    "date = pd.DataFrame({'datetime':pd.date_range(start=\"2000-01-01 00:00:00\",\n",
    "                     end=\"2020-12-31 23:59:00\",\n",
    "                     freq=\"1H\")})\n",
    "\n",
    "date['date'] = date.datetime.dt.date\n",
    "date['hour'] = date.datetime.dt.hour\n",
    "date['day'] = date.datetime.dt.day - 1\n",
    "date['weekday'] = date.datetime.dt.weekday\n",
    "date['month'] = date.datetime.dt.month - 1\n",
    "\n",
    "n_unique = {}\n",
    "data = {}\n",
    "for col in ['hour','day','weekday','month']:\n",
    "    print(f\"unique values for {col}: {sorted(date[col].unique())}\")\n",
    "    n_unique[col] = date[col].nunique()\n",
    "    data[col] = date[col]\n",
    "    \n",
    "#sanity checks\n",
    "date[date.datetime.astype(str) == \"2018-05-12 00:00:00\"]\n",
    "date[date.datetime.astype(str) == \"2018-05-13 00:00:00\"]\n",
    "date[date.datetime.astype(str) == \"2018-05-14 00:00:00\"]\n",
    "date.shape\n",
    "n_unique"
   ]
  },
  {
   "cell_type": "code",
   "execution_count": 3,
   "metadata": {},
   "outputs": [
    {
     "data": {
      "text/plain": [
       "(184104, 74)"
      ]
     },
     "execution_count": 3,
     "metadata": {},
     "output_type": "execute_result"
    }
   ],
   "source": [
    "# creating target\n",
    "hour_t = np.eye(24)[date['hour'].values]\n",
    "day_t = np.eye(31)[date['day'].values]\n",
    "weekday_t = np.eye(7)[date['weekday'].values]\n",
    "month_t = np.eye(12)[date['month'].values]\n",
    "\n",
    "target = np.concatenate([hour_t, day_t, weekday_t, month_t], axis=1)\n",
    "target.shape\n",
    "np.save('y.npy', target)"
   ]
  },
  {
   "cell_type": "code",
   "execution_count": 4,
   "metadata": {},
   "outputs": [
    {
     "name": "stdout",
     "output_type": "stream",
     "text": [
      "__________________________________________________________________________________________________\n",
      "Layer (type)                    Output Shape         Param #     Connected to                     \n",
      "==================================================================================================\n",
      "emb_input_weekday (InputLayer)  (None, 120)          0                                            \n",
      "__________________________________________________________________________________________________\n",
      "emb_input_day (InputLayer)      (None, 120)          0                                            \n",
      "__________________________________________________________________________________________________\n",
      "emb_input_month (InputLayer)    (None, 120)          0                                            \n",
      "__________________________________________________________________________________________________\n",
      "emb_input_hour (InputLayer)     (None, 120)          0                                            \n",
      "__________________________________________________________________________________________________\n",
      "emb_weekday (Embedding)         (None, 120, 3)       21          emb_input_weekday[0][0]          \n",
      "__________________________________________________________________________________________________\n",
      "emb_day (Embedding)             (None, 120, 15)      465         emb_input_day[0][0]              \n",
      "__________________________________________________________________________________________________\n",
      "emb_month (Embedding)           (None, 120, 6)       72          emb_input_month[0][0]            \n",
      "__________________________________________________________________________________________________\n",
      "emb_hour (Embedding)            (None, 120, 12)      288         emb_input_hour[0][0]             \n",
      "__________________________________________________________________________________________________\n",
      "concatenate_1 (Concatenate)     (None, 120, 36)      0           emb_weekday[0][0]                \n",
      "                                                                 emb_day[0][0]                    \n",
      "                                                                 emb_month[0][0]                  \n",
      "                                                                 emb_hour[0][0]                   \n",
      "__________________________________________________________________________________________________\n",
      "dense_1 (Dense)                 (None, 120, 74)      2738        concatenate_1[0][0]              \n",
      "==================================================================================================\n",
      "Total params: 3,584\n",
      "Trainable params: 3,584\n",
      "Non-trainable params: 0\n",
      "__________________________________________________________________________________________________\n"
     ]
    }
   ],
   "source": [
    "seq_len = 120\n",
    "batch_size = 256\n",
    "stride = 32\n",
    "\n",
    "ei_wd = Input(shape=(seq_len,), name='emb_input_weekday')\n",
    "ei_d = Input(shape=(seq_len,), name='emb_input_day')\n",
    "ei_m = Input(shape=(seq_len,), name='emb_input_month')\n",
    "ei_h = Input(shape=(seq_len,), name='emb_input_hour')\n",
    "\n",
    "e_wd = Embedding(input_dim=7, output_dim=3, input_length=seq_len, name='emb_weekday')(ei_wd)\n",
    "e_d = Embedding(input_dim=31, output_dim=15, input_length=seq_len, name='emb_day')(ei_d)\n",
    "e_m = Embedding(input_dim=12, output_dim=6, input_length=seq_len, name='emb_month')(ei_m)\n",
    "e_h = Embedding(input_dim=24, output_dim=12, input_length=seq_len, name='emb_hour')(ei_h)\n",
    "\n",
    "merged = concatenate([e_wd, e_d, e_m, e_h], axis=-1)\n",
    "dns = Dense(74)(merged)\n",
    "\n",
    "model = Model(inputs=[ei_wd, ei_d, ei_m, ei_h], outputs=[dns])\n",
    "\n",
    "\n",
    "plot_model(model, to_file='model.png', show_shapes=True, show_layer_names=True)\n",
    "model.summary()"
   ]
  },
  {
   "cell_type": "code",
   "execution_count": null,
   "metadata": {},
   "outputs": [],
   "source": []
  },
  {
   "cell_type": "code",
   "execution_count": null,
   "metadata": {},
   "outputs": [],
   "source": []
  },
  {
   "cell_type": "code",
   "execution_count": null,
   "metadata": {},
   "outputs": [],
   "source": []
  },
  {
   "cell_type": "code",
   "execution_count": null,
   "metadata": {},
   "outputs": [],
   "source": []
  }
 ],
 "metadata": {
  "kernelspec": {
   "display_name": "Python 3",
   "language": "python",
   "name": "python3"
  },
  "language_info": {
   "codemirror_mode": {
    "name": "ipython",
    "version": 3
   },
   "file_extension": ".py",
   "mimetype": "text/x-python",
   "name": "python",
   "nbconvert_exporter": "python",
   "pygments_lexer": "ipython3",
   "version": "3.6.5"
  }
 },
 "nbformat": 4,
 "nbformat_minor": 2
}
